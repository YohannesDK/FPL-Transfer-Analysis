{
 "cells": [
  {
   "cell_type": "code",
   "execution_count": 1,
   "metadata": {},
   "outputs": [
    {
     "data": {
      "text/html": [
       "<pre style=\"white-space:pre;overflow-x:auto;line-height:normal;font-family:Menlo,'DejaVu Sans Mono',consolas,'Courier New',monospace\"><span style=\"color: #7fbfbf; text-decoration-color: #7fbfbf\">[12/27/24 04:15:39] </span><span style=\"color: #000080; text-decoration-color: #000080\">INFO    </span> No custom team name replacements found. You can configure these in       <a href=\"file:///home/yohannes/.cache/pypoetry/virtualenvs/fpl-transfer-analysis-GZKYE5rY-py3.10/lib/python3.10/site-packages/soccerdata/_config.py\" target=\"_blank\"><span style=\"color: #7f7f7f; text-decoration-color: #7f7f7f\">_config.py</span></a><span style=\"color: #7f7f7f; text-decoration-color: #7f7f7f\">:</span><a href=\"file:///home/yohannes/.cache/pypoetry/virtualenvs/fpl-transfer-analysis-GZKYE5rY-py3.10/lib/python3.10/site-packages/soccerdata/_config.py#90\" target=\"_blank\"><span style=\"color: #7f7f7f; text-decoration-color: #7f7f7f\">90</span></a>\n",
       "<span style=\"color: #7fbfbf; text-decoration-color: #7fbfbf\">                    </span>         <span style=\"color: #800080; text-decoration-color: #800080\">/home/yohannes/soccerdata/config/</span><span style=\"color: #ff00ff; text-decoration-color: #ff00ff\">teamname_replacements.json.</span>             <span style=\"color: #7f7f7f; text-decoration-color: #7f7f7f\">             </span>\n",
       "</pre>\n"
      ],
      "text/plain": [
       "\u001b[2;36m[12/27/24 04:15:39]\u001b[0m\u001b[2;36m \u001b[0m\u001b[34mINFO    \u001b[0m No custom team name replacements found. You can configure these in       \u001b]8;id=322063;file:///home/yohannes/.cache/pypoetry/virtualenvs/fpl-transfer-analysis-GZKYE5rY-py3.10/lib/python3.10/site-packages/soccerdata/_config.py\u001b\\\u001b[2m_config.py\u001b[0m\u001b]8;;\u001b\\\u001b[2m:\u001b[0m\u001b]8;id=342451;file:///home/yohannes/.cache/pypoetry/virtualenvs/fpl-transfer-analysis-GZKYE5rY-py3.10/lib/python3.10/site-packages/soccerdata/_config.py#90\u001b\\\u001b[2m90\u001b[0m\u001b]8;;\u001b\\\n",
       "\u001b[2;36m                    \u001b[0m         \u001b[35m/home/yohannes/soccerdata/config/\u001b[0m\u001b[95mteamname_replacements.json.\u001b[0m             \u001b[2m             \u001b[0m\n"
      ]
     },
     "metadata": {},
     "output_type": "display_data"
    },
    {
     "data": {
      "text/html": [
       "<pre style=\"white-space:pre;overflow-x:auto;line-height:normal;font-family:Menlo,'DejaVu Sans Mono',consolas,'Courier New',monospace\"><span style=\"color: #7fbfbf; text-decoration-color: #7fbfbf\">                    </span><span style=\"color: #000080; text-decoration-color: #000080\">INFO    </span> No custom league dict found. You can configure additional leagues in    <a href=\"file:///home/yohannes/.cache/pypoetry/virtualenvs/fpl-transfer-analysis-GZKYE5rY-py3.10/lib/python3.10/site-packages/soccerdata/_config.py\" target=\"_blank\"><span style=\"color: #7f7f7f; text-decoration-color: #7f7f7f\">_config.py</span></a><span style=\"color: #7f7f7f; text-decoration-color: #7f7f7f\">:</span><a href=\"file:///home/yohannes/.cache/pypoetry/virtualenvs/fpl-transfer-analysis-GZKYE5rY-py3.10/lib/python3.10/site-packages/soccerdata/_config.py#196\" target=\"_blank\"><span style=\"color: #7f7f7f; text-decoration-color: #7f7f7f\">196</span></a>\n",
       "<span style=\"color: #7fbfbf; text-decoration-color: #7fbfbf\">                    </span>         <span style=\"color: #800080; text-decoration-color: #800080\">/home/yohannes/soccerdata/config/</span><span style=\"color: #ff00ff; text-decoration-color: #ff00ff\">league_dict.json.</span>                      <span style=\"color: #7f7f7f; text-decoration-color: #7f7f7f\">              </span>\n",
       "</pre>\n"
      ],
      "text/plain": [
       "\u001b[2;36m                   \u001b[0m\u001b[2;36m \u001b[0m\u001b[34mINFO    \u001b[0m No custom league dict found. You can configure additional leagues in    \u001b]8;id=900659;file:///home/yohannes/.cache/pypoetry/virtualenvs/fpl-transfer-analysis-GZKYE5rY-py3.10/lib/python3.10/site-packages/soccerdata/_config.py\u001b\\\u001b[2m_config.py\u001b[0m\u001b]8;;\u001b\\\u001b[2m:\u001b[0m\u001b]8;id=482102;file:///home/yohannes/.cache/pypoetry/virtualenvs/fpl-transfer-analysis-GZKYE5rY-py3.10/lib/python3.10/site-packages/soccerdata/_config.py#196\u001b\\\u001b[2m196\u001b[0m\u001b]8;;\u001b\\\n",
       "\u001b[2;36m                    \u001b[0m         \u001b[35m/home/yohannes/soccerdata/config/\u001b[0m\u001b[95mleague_dict.json.\u001b[0m                      \u001b[2m              \u001b[0m\n"
      ]
     },
     "metadata": {},
     "output_type": "display_data"
    }
   ],
   "source": [
    "import sys\n",
    "from pathlib import Path\n",
    "\n",
    "# Add the project root directory to sys.path\n",
    "project_root = Path().resolve().parent\n",
    "sys.path.append(str(project_root))\n",
    "\n",
    "# Now import the module\n",
    "from backend.utils import get_shooting_data"
   ]
  },
  {
   "cell_type": "code",
   "execution_count": 2,
   "metadata": {},
   "outputs": [
    {
     "data": {
      "text/html": [
       "<pre style=\"white-space:pre;overflow-x:auto;line-height:normal;font-family:Menlo,'DejaVu Sans Mono',consolas,'Courier New',monospace\"><span style=\"color: #7fbfbf; text-decoration-color: #7fbfbf\">                    </span><span style=\"color: #000080; text-decoration-color: #000080\">INFO    </span> Saving cached data to <span style=\"color: #800080; text-decoration-color: #800080\">/home/yohannes/soccerdata/data/</span><span style=\"color: #ff00ff; text-decoration-color: #ff00ff\">FBref</span>              <a href=\"file:///home/yohannes/.cache/pypoetry/virtualenvs/fpl-transfer-analysis-GZKYE5rY-py3.10/lib/python3.10/site-packages/soccerdata/_common.py\" target=\"_blank\"><span style=\"color: #7f7f7f; text-decoration-color: #7f7f7f\">_common.py</span></a><span style=\"color: #7f7f7f; text-decoration-color: #7f7f7f\">:</span><a href=\"file:///home/yohannes/.cache/pypoetry/virtualenvs/fpl-transfer-analysis-GZKYE5rY-py3.10/lib/python3.10/site-packages/soccerdata/_common.py#263\" target=\"_blank\"><span style=\"color: #7f7f7f; text-decoration-color: #7f7f7f\">263</span></a>\n",
       "</pre>\n"
      ],
      "text/plain": [
       "\u001b[2;36m                   \u001b[0m\u001b[2;36m \u001b[0m\u001b[34mINFO    \u001b[0m Saving cached data to \u001b[35m/home/yohannes/soccerdata/data/\u001b[0m\u001b[95mFBref\u001b[0m              \u001b]8;id=234656;file:///home/yohannes/.cache/pypoetry/virtualenvs/fpl-transfer-analysis-GZKYE5rY-py3.10/lib/python3.10/site-packages/soccerdata/_common.py\u001b\\\u001b[2m_common.py\u001b[0m\u001b]8;;\u001b\\\u001b[2m:\u001b[0m\u001b]8;id=476119;file:///home/yohannes/.cache/pypoetry/virtualenvs/fpl-transfer-analysis-GZKYE5rY-py3.10/lib/python3.10/site-packages/soccerdata/_common.py#263\u001b\\\u001b[2m263\u001b[0m\u001b]8;;\u001b\\\n"
      ]
     },
     "metadata": {},
     "output_type": "display_data"
    },
    {
     "name": "stderr",
     "output_type": "stream",
     "text": [
      "/home/yohannes/.cache/pypoetry/virtualenvs/fpl-transfer-analysis-GZKYE5rY-py3.10/lib/python3.10/site-packages/soccerdata/fbref.py:159: FutureWarning: The behavior of DataFrame concatenation with empty or all-NA entries is deprecated. In a future version, this will no longer exclude empty or all-NA columns when determining the result dtypes. To retain the old behavior, exclude the relevant entries before the concat operation.\n",
      "  pd.concat(dfs)\n"
     ]
    },
    {
     "name": "stdout",
     "output_type": "stream",
     "text": [
      "                                          players_used 90s Standard            \\\n",
      "                                                                Gls   Sh  SoT   \n",
      "league             season team                                                  \n",
      "ENG-Premier League 2425   Arsenal                   23  17       33  238   85   \n",
      "                          Aston Villa               23  17       25  218   69   \n",
      "                          Bournemouth               25  17       27  274   87   \n",
      "                          Brentford                 23  17       32  179   80   \n",
      "                          Brighton                  28  17       26  245   81   \n",
      "                          Chelsea                   24  17       37  265   97   \n",
      "                          Crystal Palace            25  17       17  239   76   \n",
      "                          Everton                   24  16       12  186   58   \n",
      "                          Fulham                    25  17       23  229   79   \n",
      "                          Ipswich Town              28  17       15  173   53   \n",
      "                          Leicester City            25  17       21  153   52   \n",
      "                          Liverpool                 23  16       37  252   99   \n",
      "                          Manchester City           22  17       29  293   98   \n",
      "                          Manchester Utd            25  17       20  229   82   \n",
      "                          Newcastle Utd             22  17       26  231   71   \n",
      "                          Nott'ham Forest           23  17       23  224   78   \n",
      "                          Southampton               31  17       11  152   45   \n",
      "                          Tottenham                 25  17       37  258  100   \n",
      "                          West Ham                  25  17       21  249   73   \n",
      "                          Wolves                    24  17       27  184   71   \n",
      "\n",
      "                                                                           \\\n",
      "                                           SoT%  Sh/90 SoT/90  G/Sh G/SoT   \n",
      "league             season team                                              \n",
      "ENG-Premier League 2425   Arsenal          35.7   14.0    5.0  0.13  0.36   \n",
      "                          Aston Villa      31.7  12.82   4.06  0.11  0.35   \n",
      "                          Bournemouth      31.8  16.12   5.12  0.08  0.25   \n",
      "                          Brentford        44.7  10.53   4.71  0.17  0.38   \n",
      "                          Brighton         33.1  14.41   4.76  0.11  0.32   \n",
      "                          Chelsea          36.6  15.59   5.71  0.13  0.35   \n",
      "                          Crystal Palace   31.8  14.06   4.47  0.07  0.21   \n",
      "                          Everton          31.2  11.62   3.62  0.06  0.21   \n",
      "                          Fulham           34.5  13.47   4.65   0.1  0.28   \n",
      "                          Ipswich Town     30.6  10.18   3.12  0.09  0.28   \n",
      "                          Leicester City   34.0    9.0   3.06  0.12  0.37   \n",
      "                          Liverpool        39.3  15.75   6.19  0.13  0.33   \n",
      "                          Manchester City  33.4  17.24   5.76   0.1  0.29   \n",
      "                          Manchester Utd   35.8  13.47   4.82  0.08  0.22   \n",
      "                          Newcastle Utd    30.7  13.59   4.18  0.11  0.35   \n",
      "                          Nott'ham Forest  34.8  13.18   4.59  0.09  0.27   \n",
      "                          Southampton      29.6   8.94   2.65  0.07  0.24   \n",
      "                          Tottenham        38.8  15.18   5.88  0.14  0.37   \n",
      "                          West Ham         29.3  14.65   4.29  0.07  0.25   \n",
      "                          Wolves           38.6  10.82   4.18  0.15  0.38   \n",
      "\n",
      "                                                             Expected        \\\n",
      "                                           Dist  FK PK PKatt       xG  npxG   \n",
      "league             season team                                                \n",
      "ENG-Premier League 2425   Arsenal          14.5   1  2     2     29.3  27.8   \n",
      "                          Aston Villa      15.2   4  1     2     27.1  25.5   \n",
      "                          Bournemouth      17.4   5  5     6     34.0  29.3   \n",
      "                          Brentford        15.2   5  2     2     26.1  24.5   \n",
      "                          Brighton         17.3  14  0     0     23.9  23.9   \n",
      "                          Chelsea          16.2  10  3     3     35.3  33.0   \n",
      "                          Crystal Palace   17.2   6  1     1     23.5  22.7   \n",
      "                          Everton          17.6   9  0     0     15.8  15.8   \n",
      "                          Fulham           16.5   4  1     2     22.8  21.2   \n",
      "                          Ipswich Town     16.9   5  0     0     15.9  15.9   \n",
      "                          Leicester City   17.6   2  2     2     17.2  15.8   \n",
      "                          Liverpool        15.7   4  4     4     36.2  33.1   \n",
      "                          Manchester City  16.9   7  1     1     30.7  29.9   \n",
      "                          Manchester Utd   17.5   6  2     2     25.4  23.8   \n",
      "                          Newcastle Utd    15.7   6  1     2     27.6  26.0   \n",
      "                          Nott'ham Forest  17.8   7  2     2     20.6  19.1   \n",
      "                          Southampton      16.1   4  0     2     17.1  15.4   \n",
      "                          Tottenham        15.9   6  0     0     31.8  31.8   \n",
      "                          West Ham         16.5   5  3     3     24.7  22.4   \n",
      "                          Wolves           18.1   4  0     0     17.9  17.9   \n",
      "\n",
      "                                                                \\\n",
      "                                          npxG/Sh G-xG np:G-xG   \n",
      "league             season team                                   \n",
      "ENG-Premier League 2425   Arsenal            0.12  3.7     3.2   \n",
      "                          Aston Villa        0.12 -2.1    -1.5   \n",
      "                          Bournemouth        0.11 -7.0    -7.3   \n",
      "                          Brentford          0.14  5.9     5.5   \n",
      "                          Brighton            0.1  2.1     2.1   \n",
      "                          Chelsea            0.13  1.7     1.0   \n",
      "                          Crystal Palace      0.1 -6.5    -6.7   \n",
      "                          Everton            0.09 -3.8    -3.8   \n",
      "                          Fulham             0.09  0.2     0.8   \n",
      "                          Ipswich Town       0.09 -0.9    -0.9   \n",
      "                          Leicester City      0.1  3.8     3.2   \n",
      "                          Liverpool          0.14  0.8    -0.1   \n",
      "                          Manchester City    0.11 -1.7    -1.9   \n",
      "                          Manchester Utd     0.11 -5.4    -5.8   \n",
      "                          Newcastle Utd      0.11 -1.6    -1.0   \n",
      "                          Nott'ham Forest    0.09  2.4     1.9   \n",
      "                          Southampton         0.1 -6.1    -4.4   \n",
      "                          Tottenham          0.13  5.2     5.2   \n",
      "                          West Ham           0.09 -3.7    -4.4   \n",
      "                          Wolves              0.1  9.1     9.1   \n",
      "\n",
      "                                                                                         url  \n",
      "                                                                                              \n",
      "league             season team                                                                \n",
      "ENG-Premier League 2425   Arsenal                          /en/squads/18bb7c10/Arsenal-Stats  \n",
      "                          Aston Villa                  /en/squads/8602292d/Aston-Villa-Stats  \n",
      "                          Bournemouth                  /en/squads/4ba7cbea/Bournemouth-Stats  \n",
      "                          Brentford                      /en/squads/cd051869/Brentford-Stats  \n",
      "                          Brighton         /en/squads/d07537b9/Brighton-and-Hove-Albion-S...  \n",
      "                          Chelsea                          /en/squads/cff3d9bb/Chelsea-Stats  \n",
      "                          Crystal Palace            /en/squads/47c64c55/Crystal-Palace-Stats  \n",
      "                          Everton                          /en/squads/d3fd31cc/Everton-Stats  \n",
      "                          Fulham                            /en/squads/fd962109/Fulham-Stats  \n",
      "                          Ipswich Town                /en/squads/b74092de/Ipswich-Town-Stats  \n",
      "                          Leicester City            /en/squads/a2d435b3/Leicester-City-Stats  \n",
      "                          Liverpool                      /en/squads/822bd0ba/Liverpool-Stats  \n",
      "                          Manchester City          /en/squads/b8fd03ef/Manchester-City-Stats  \n",
      "                          Manchester Utd         /en/squads/19538871/Manchester-United-Stats  \n",
      "                          Newcastle Utd           /en/squads/b2b47a98/Newcastle-United-Stats  \n",
      "                          Nott'ham Forest        /en/squads/e4a775cb/Nottingham-Forest-Stats  \n",
      "                          Southampton                  /en/squads/33c895d4/Southampton-Stats  \n",
      "                          Tottenham              /en/squads/361ca564/Tottenham-Hotspur-Stats  \n",
      "                          West Ham                 /en/squads/7c21e445/West-Ham-United-Stats  \n",
      "                          Wolves           /en/squads/8cec06e1/Wolverhampton-Wanderers-Stats  \n"
     ]
    }
   ],
   "source": [
    "data = get_shooting_data()\n",
    "print(data)\n"
   ]
  }
 ],
 "metadata": {
  "kernelspec": {
   "display_name": "fpl-transfer-analysis-GZKYE5rY-py3.10",
   "language": "python",
   "name": "python3"
  },
  "language_info": {
   "codemirror_mode": {
    "name": "ipython",
    "version": 3
   },
   "file_extension": ".py",
   "mimetype": "text/x-python",
   "name": "python",
   "nbconvert_exporter": "python",
   "pygments_lexer": "ipython3",
   "version": "3.10.12"
  }
 },
 "nbformat": 4,
 "nbformat_minor": 2
}
